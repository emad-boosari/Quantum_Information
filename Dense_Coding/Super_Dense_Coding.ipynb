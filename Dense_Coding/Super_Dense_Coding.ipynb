{
  "nbformat": 4,
  "nbformat_minor": 0,
  "metadata": {
    "colab": {
      "provenance": []
    },
    "kernelspec": {
      "name": "python3",
      "display_name": "Python 3"
    },
    "language_info": {
      "name": "python"
    }
  },
  "cells": [
    {
      "cell_type": "markdown",
      "source": [
        "# Super Dense Coding"
      ],
      "metadata": {
        "id": "GziCQJPpPkcD"
      }
    },
    {
      "cell_type": "markdown",
      "source": [
        "Super Dense Coding is a foundational quantum communication protocol in which Alice (the sender) utilizes quantum resources to transmit two classical bits to Bob (the receiver) by sending only a single quantum bit (qubit). The necessary quantum resources for this protocol are:\n",
        "\n",
        "1. Quantum Communication Channel\n",
        "2. Entanglement\n",
        "It is important to note that this protocol assumes Alice and Bob are spatially separated."
      ],
      "metadata": {
        "id": "VKL6FLtj-d9H"
      }
    },
    {
      "cell_type": "markdown",
      "source": [
        "The entire procedure can be summarized in the following steps:\n",
        "\n",
        "1. __Entanglement Generation:__ In the initial phase, an entangled state is created between Alice's qubit and Bob's qubit. This step is usually performed in advance.\n",
        "2. __Encoding:__ Alice manipulates her qubit using quantum gates to encode her desired two-bit message.\n",
        "3. __Transmission:__ Alice sends her manipulated qubit to Bob through a quantum communication channel.\n",
        "4. __Decoding:__ Upon receiving the qubit, Bob applies specific quantum gates to decode the transmitted message.\n",
        "\n",
        "5. __Measurement:__ Bob performs measurements on both qubits to determine Alice's message.\n",
        "\n",
        "While this protocol involves two qubits, not just one, the power of quantum mechanics lies in enabling such efficient communication. If classical bits were used instead of qubits, it would be impossible to transmit more than one classical bit of information to Bob in this manner. Quantum entanglement uniquely facilitates this protocol, showcasing a capability that has no classical counterpart."
      ],
      "metadata": {
        "id": "SVSrUsGeHvSm"
      }
    },
    {
      "cell_type": "markdown",
      "source": [
        "## Step 1: Entanglement Generation:\n",
        "In this protocol, Alice and Bob share one of the following Bell states, which are maximally entangled:\n",
        "\n",
        "1. $|\\Phi^+⟩ = \\dfrac{1}{\\sqrt{2}} (|00⟩+|11⟩)$\n",
        "2. $|\\Phi^-⟩ = \\dfrac{1}{\\sqrt{2}} (|00⟩-|11⟩)$\n",
        "3. $|\\Psi^+⟩ = \\dfrac{1}{\\sqrt{2}} (|01⟩+|10⟩)$\n",
        "4. $|\\Psi^-⟩ = \\dfrac{1}{\\sqrt{2}} (|01⟩-|10⟩)$\n",
        "\n",
        "In this discussion, we assume that Alice and Bob share the Bell state\n",
        "$|\\Phi^+⟩$. This state represents the initial entanglement required for the Super Dense Coding protocol."
      ],
      "metadata": {
        "id": "dbhMp1pc_Uaz"
      }
    },
    {
      "cell_type": "markdown",
      "source": [
        "# Alice Encoding for sending an arbitrary bitstring\n",
        "Alice can send one of four possible bitstrings:\n",
        "$'00', '01', '10'$, and $'11'$, to Bob. The following table represents how the information can be encoded in a quantum state."
      ],
      "metadata": {
        "id": "hxvDv6O2_UeY"
      }
    },
    {
      "cell_type": "markdown",
      "source": [
        "| **Message**             | **Alice Encoding** | **Prepared State** |\n",
        "|--------------------------|---------------------------------------------------------------------------------------------------------------------------------------------------|--------------------------------------------------------------------------|\n",
        "| **00**   | $\\mathbb{I}$ | $|\\Phi^+⟩ $\n",
        "| **01**     | $X$ |   $|\\Phi^-⟩ $\n",
        "| **10**      | $Z$ |  $|\\Psi^+⟩ $\n",
        "| **11**     | $ZX$ |  $|\\Psi^-⟩ $  \n",
        "\n",
        "This encoding allows Alice to manipulate her half of the entangled state to encode the desired message efficiently before sending her qubit to Bob."
      ],
      "metadata": {
        "id": "nkvS-IUb_UhN"
      }
    },
    {
      "cell_type": "markdown",
      "source": [
        "## Transmission\n",
        "In the transmission step of the Super Dense Coding protocol, Alice sends her encoded qubit to Bob through a quantum communication channel."
      ],
      "metadata": {
        "id": "1CvE6Vcx_UpY"
      }
    },
    {
      "cell_type": "markdown",
      "source": [
        "## Decoding:"
      ],
      "metadata": {
        "id": "rDp7EEsdDEUS"
      }
    },
    {
      "cell_type": "markdown",
      "source": [
        "Once Bob receives the qubit, he will proceed to the Decoding Step to extract the encoded information by performing measurements on the combined state of both qubits. This step ensures the successful retrieval of the classical bitstring originally encoded by Alice."
      ],
      "metadata": {
        "id": "hK3n0MVlDEYm"
      }
    },
    {
      "cell_type": "markdown",
      "source": [
        "## Measurement:\n",
        "In the measurement step, Bob will measure both qubits to figure out the Alice's message."
      ],
      "metadata": {
        "id": "-jdMzpkqDEcH"
      }
    },
    {
      "cell_type": "code",
      "execution_count": null,
      "metadata": {
        "id": "yX8yYO8p63aA"
      },
      "outputs": [],
      "source": [
        "!pip install qiskit\n",
        "!pip install pylatexenc\n",
        "!pip install qiskit_aer"
      ]
    },
    {
      "cell_type": "code",
      "source": [
        "from qiskit import QuantumRegister, QuantumCircuit, ClassicalRegister, transpile\n",
        "from qiskit.quantum_info import Statevector\n",
        "from qiskit_aer import QasmSimulator, StatevectorSimulator\n",
        "from qiskit.visualization import plot_histogram"
      ],
      "metadata": {
        "id": "VcM-8n_a6-9F"
      },
      "execution_count": 16,
      "outputs": []
    },
    {
      "cell_type": "code",
      "source": [
        "def qplot(x):\n",
        "  return x.draw('mpl', scale=0.8, fold=False, cregbundle=False)"
      ],
      "metadata": {
        "id": "97xZhMwH8gZQ"
      },
      "execution_count": 5,
      "outputs": []
    },
    {
      "cell_type": "code",
      "source": [
        "def encoder(x):\n",
        "  d = len(x)\n",
        "  circ = QuantumCircuit(d)\n",
        "  '''\n",
        "  x is string\n",
        "  '''\n",
        "  if x == '00':\n",
        "    circ.i(0)\n",
        "  elif x == '01':\n",
        "    circ.x(0)\n",
        "  elif x == '10':\n",
        "    circ.z(0)\n",
        "  elif x == '11':\n",
        "    circ.x(0)\n",
        "    circ.z(0)\n",
        "\n",
        "  gate = circ.to_gate()\n",
        "  gate.name = \"Encoder\"\n",
        "\n",
        "  return gate"
      ],
      "metadata": {
        "id": "J6L_tiKxP2FK"
      },
      "execution_count": 28,
      "outputs": []
    },
    {
      "cell_type": "code",
      "source": [
        "qa = QuantumRegister(1, name = 'Alice')\n",
        "qb = QuantumRegister(1, name = 'Bob')\n",
        "cbits = ClassicalRegister(2, name = \"cbits\")\n",
        "circuit = QuantumCircuit(qa, qb, cbits)\n",
        "\n",
        "# Create entanglement\n",
        "circuit.h(qa)\n",
        "circuit.cx(qa, qb)\n",
        "circuit.barrier()\n",
        "\n",
        "# Alice encoding\n",
        "circuit.append(encoder('01'), [qa, qb])\n",
        "circuit.barrier()\n",
        "\n",
        "# Bob Decoding\n",
        "circuit.cx(qa, qb)\n",
        "circuit.h(qa)\n",
        "circuit.barrier()\n",
        "\n",
        "circuit.measure([0,1], cbits)\n",
        "\n",
        "\n",
        "qplot(circuit)"
      ],
      "metadata": {
        "colab": {
          "base_uri": "https://localhost:8080/",
          "height": 263
        },
        "id": "FcHRPP7k6-__",
        "outputId": "4ac8bb24-beff-4daf-883a-aee383f7dc8d"
      },
      "execution_count": 33,
      "outputs": [
        {
          "output_type": "execute_result",
          "data": {
            "text/plain": [
              "<Figure size 872.22x294.311 with 1 Axes>"
            ],
            "image/png": "[encoded data removed]"
          },
          "metadata": {},
          "execution_count": 33
        }
      ]
    },
    {
      "cell_type": "code",
      "source": [
        "backend = QasmSimulator()\n",
        "trans_circ = transpile(circuit.reverse_bits(), backend)\n",
        "job = backend.run(trans_circ)\n",
        "result = job.result()\n",
        "counts = result.get_counts()\n",
        "plot_histogram(counts)"
      ],
      "metadata": {
        "colab": {
          "base_uri": "https://localhost:8080/",
          "height": 437
        },
        "id": "SNgHUoeE6_Dx",
        "outputId": "bc5afbff-4b0f-45fe-831e-c0b825c00214"
      },
      "execution_count": 35,
      "outputs": [
        {
          "output_type": "execute_result",
          "data": {
            "text/plain": [
              "<Figure size 640x480 with 1 Axes>"
            ],
            "image/png": "[encoded data removed]"
          },
          "metadata": {},
          "execution_count": 35
        }
      ]
    },
    {
      "cell_type": "code",
      "source": [],
      "metadata": {
        "id": "g0au_1ZA6_Gp"
      },
      "execution_count": null,
      "outputs": []
    },
    {
      "cell_type": "code",
      "source": [],
      "metadata": {
        "id": "z2ACuxw_6_KR"
      },
      "execution_count": null,
      "outputs": []
    },
    {
      "cell_type": "code",
      "source": [],
      "metadata": {
        "id": "14Na8vyv6_Oh"
      },
      "execution_count": null,
      "outputs": []
    },
    {
      "cell_type": "code",
      "source": [],
      "metadata": {
        "id": "okR_CMed6_P_"
      },
      "execution_count": null,
      "outputs": []
    },
    {
      "cell_type": "code",
      "source": [],
      "metadata": {
        "id": "H8MWiYFZ6_z9"
      },
      "execution_count": null,
      "outputs": []
    },
    {
      "cell_type": "code",
      "source": [],
      "metadata": {
        "id": "j_sXg4dU6_31"
      },
      "execution_count": null,
      "outputs": []
    },
    {
      "cell_type": "code",
      "source": [],
      "metadata": {
        "id": "FJ6wkeke6_58"
      },
      "execution_count": null,
      "outputs": []
    },
    {
      "cell_type": "code",
      "source": [],
      "metadata": {
        "id": "z6huWCep6_9u"
      },
      "execution_count": null,
      "outputs": []
    },
    {
      "cell_type": "code",
      "source": [],
      "metadata": {
        "id": "PhvZPPoH7ACL"
      },
      "execution_count": null,
      "outputs": []
    },
    {
      "cell_type": "code",
      "source": [],
      "metadata": {
        "id": "pMp125tG7AGX"
      },
      "execution_count": null,
      "outputs": []
    },
    {
      "cell_type": "code",
      "source": [],
      "metadata": {
        "id": "04hKMrAf7AJA"
      },
      "execution_count": null,
      "outputs": []
    },
    {
      "cell_type": "code",
      "source": [],
      "metadata": {
        "id": "9IsBAV2-7AK1"
      },
      "execution_count": null,
      "outputs": []
    },
    {
      "cell_type": "code",
      "source": [],
      "metadata": {
        "id": "pMX9nsz67AMv"
      },
      "execution_count": null,
      "outputs": []
    },
    {
      "cell_type": "code",
      "source": [],
      "metadata": {
        "id": "COgQKzvl7AO0"
      },
      "execution_count": null,
      "outputs": []
    },
    {
      "cell_type": "code",
      "source": [],
      "metadata": {
        "id": "zgVkEfl07ASU"
      },
      "execution_count": null,
      "outputs": []
    },
    {
      "cell_type": "code",
      "source": [],
      "metadata": {
        "id": "m1ItwUuv7AUP"
      },
      "execution_count": null,
      "outputs": []
    },
    {
      "cell_type": "code",
      "source": [],
      "metadata": {
        "id": "7cnrhnDZ7AWZ"
      },
      "execution_count": null,
      "outputs": []
    },
    {
      "cell_type": "code",
      "source": [],
      "metadata": {
        "id": "jW9whvUB7AYy"
      },
      "execution_count": null,
      "outputs": []
    },
    {
      "cell_type": "code",
      "source": [],
      "metadata": {
        "id": "Blo8GEFn7AcY"
      },
      "execution_count": null,
      "outputs": []
    },
    {
      "cell_type": "code",
      "source": [],
      "metadata": {
        "id": "rR6zDGqT7Aeh"
      },
      "execution_count": null,
      "outputs": []
    },
    {
      "cell_type": "code",
      "source": [],
      "metadata": {
        "id": "4fYihgRU7Ait"
      },
      "execution_count": null,
      "outputs": []
    },
    {
      "cell_type": "code",
      "source": [],
      "metadata": {
        "id": "7KMfDnSM7AkW"
      },
      "execution_count": null,
      "outputs": []
    },
    {
      "cell_type": "code",
      "source": [],
      "metadata": {
        "id": "i3_NbxiD7Any"
      },
      "execution_count": null,
      "outputs": []
    },
    {
      "cell_type": "code",
      "source": [],
      "metadata": {
        "id": "pMQTkFsO7ApR"
      },
      "execution_count": null,
      "outputs": []
    },
    {
      "cell_type": "code",
      "source": [],
      "metadata": {
        "id": "fRqWh38E7ArH"
      },
      "execution_count": null,
      "outputs": []
    },
    {
      "cell_type": "code",
      "source": [],
      "metadata": {
        "id": "B-0QgeaT7Atk"
      },
      "execution_count": null,
      "outputs": []
    },
    {
      "cell_type": "code",
      "source": [],
      "metadata": {
        "id": "DIDvw5jz7Aze"
      },
      "execution_count": null,
      "outputs": []
    },
    {
      "cell_type": "code",
      "source": [],
      "metadata": {
        "id": "Y3Uha6Oi7A2-"
      },
      "execution_count": null,
      "outputs": []
    },
    {
      "cell_type": "code",
      "source": [],
      "metadata": {
        "id": "iGFN1t5t7A5M"
      },
      "execution_count": null,
      "outputs": []
    },
    {
      "cell_type": "code",
      "source": [],
      "metadata": {
        "id": "U-WvxRCL7A7Y"
      },
      "execution_count": null,
      "outputs": []
    },
    {
      "cell_type": "code",
      "source": [],
      "metadata": {
        "id": "7BEoXo937A_5"
      },
      "execution_count": null,
      "outputs": []
    },
    {
      "cell_type": "code",
      "source": [],
      "metadata": {
        "id": "VMGP3p407BBW"
      },
      "execution_count": null,
      "outputs": []
    },
    {
      "cell_type": "code",
      "source": [],
      "metadata": {
        "id": "-hIIv4nV7BDF"
      },
      "execution_count": null,
      "outputs": []
    },
    {
      "cell_type": "code",
      "source": [],
      "metadata": {
        "id": "d42Rzmfv7BF4"
      },
      "execution_count": null,
      "outputs": []
    },
    {
      "cell_type": "code",
      "source": [],
      "metadata": {
        "id": "MQ--orJ_7BIG"
      },
      "execution_count": null,
      "outputs": []
    },
    {
      "cell_type": "code",
      "source": [],
      "metadata": {
        "id": "wQQfzDoE7BKU"
      },
      "execution_count": null,
      "outputs": []
    },
    {
      "cell_type": "code",
      "source": [],
      "metadata": {
        "id": "mVOmqw4C7BR2"
      },
      "execution_count": null,
      "outputs": []
    },
    {
      "cell_type": "code",
      "source": [],
      "metadata": {
        "id": "Ypm2W8Rv7BT6"
      },
      "execution_count": null,
      "outputs": []
    },
    {
      "cell_type": "code",
      "source": [],
      "metadata": {
        "id": "3pWGOcF97BVu"
      },
      "execution_count": null,
      "outputs": []
    },
    {
      "cell_type": "code",
      "source": [],
      "metadata": {
        "id": "2iSGfig37BY2"
      },
      "execution_count": null,
      "outputs": []
    },
    {
      "cell_type": "code",
      "source": [],
      "metadata": {
        "id": "Xwwl4fVE7BbZ"
      },
      "execution_count": null,
      "outputs": []
    },
    {
      "cell_type": "code",
      "source": [],
      "metadata": {
        "id": "vIArG_Ao7Bd8"
      },
      "execution_count": null,
      "outputs": []
    },
    {
      "cell_type": "code",
      "source": [],
      "metadata": {
        "id": "ydOrngpI7Bgs"
      },
      "execution_count": null,
      "outputs": []
    },
    {
      "cell_type": "code",
      "source": [],
      "metadata": {
        "id": "Lfvp1lTs7BjV"
      },
      "execution_count": null,
      "outputs": []
    },
    {
      "cell_type": "code",
      "source": [],
      "metadata": {
        "id": "d6JIt_hR7Blj"
      },
      "execution_count": null,
      "outputs": []
    },
    {
      "cell_type": "code",
      "source": [],
      "metadata": {
        "id": "e8kTaUVb7BpO"
      },
      "execution_count": null,
      "outputs": []
    },
    {
      "cell_type": "code",
      "source": [],
      "metadata": {
        "id": "Fd34-iFh7BrB"
      },
      "execution_count": null,
      "outputs": []
    },
    {
      "cell_type": "code",
      "source": [],
      "metadata": {
        "id": "ZocxLnsg7Bsv"
      },
      "execution_count": null,
      "outputs": []
    },
    {
      "cell_type": "code",
      "source": [],
      "metadata": {
        "id": "Q4HcrvYR7Buw"
      },
      "execution_count": null,
      "outputs": []
    },
    {
      "cell_type": "code",
      "source": [],
      "metadata": {
        "id": "AiKMSKeJ7BxR"
      },
      "execution_count": null,
      "outputs": []
    },
    {
      "cell_type": "code",
      "source": [],
      "metadata": {
        "id": "kw_lK__F7B0c"
      },
      "execution_count": null,
      "outputs": []
    }
  ]
}